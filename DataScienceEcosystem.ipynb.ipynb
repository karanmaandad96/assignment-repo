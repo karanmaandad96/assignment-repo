{
 "cells": [
  {
   "cell_type": "markdown",
   "id": "d138c60e-dcad-4b0a-a340-9b8770725ae9",
   "metadata": {},
   "source": [
    "# Data Science Tools and Ecosystem:"
   ]
  },
  {
   "cell_type": "markdown",
   "id": "f8d55ecb-48d6-42c6-a834-59b126697d36",
   "metadata": {},
   "source": [
    "In this notebook, Data Science Tools and Ecosystem are summarized."
   ]
  },
  {
   "cell_type": "code",
   "execution_count": null,
   "id": "d8a31311-5122-42b2-9f76-7e00f837a31b",
   "metadata": {},
   "outputs": [],
   "source": []
  },
  {
   "cell_type": "markdown",
   "id": "ceff604a-f3e7-46e3-813b-1983234bdbbb",
   "metadata": {},
   "source": [
    "Some of the popular languages that Data Scientists use are:\n",
    "order list: \n",
    "1) Python\n",
    "2) R\n",
    "3) Julia\n",
    "4) Scalathe"
   ]
  },
  {
   "cell_type": "code",
   "execution_count": null,
   "id": "86d5187e-1d82-46b9-8400-d22bfa66e170",
   "metadata": {},
   "outputs": [],
   "source": []
  },
  {
   "cell_type": "markdown",
   "id": "edbb9684-fa08-4b0a-a746-f118dfb70e67",
   "metadata": {},
   "source": [
    "Some of the commonly used libraries used by Data Scientists include:\n",
    "1. Pandas\n",
    "2. NumPy\n",
    "3. Matplotlib\n",
    "4. Scikit-learn\n",
    "5. TensorFlow"
   ]
  },
  {
   "cell_type": "markdown",
   "id": "9e9416b0-8c1b-40ae-b7cd-f9b53aac0ded",
   "metadata": {},
   "source": []
  },
  {
   "cell_type": "markdown",
   "id": "ea82d934-dce9-489c-8970-a53d9381aaad",
   "metadata": {},
   "source": [
    "Table of Data Science Tools:\n",
    "|Data Science Tools|\n",
    "|------------------|\n",
    "|Jupyter Notebook|\n",
    "|VS Code|\n",
    "|R Studio|"
   ]
  },
  {
   "cell_type": "code",
   "execution_count": null,
   "id": "15543fdf-4691-4066-8602-e57cde6d0e75",
   "metadata": {},
   "outputs": [],
   "source": []
  },
  {
   "cell_type": "markdown",
   "id": "afbbe59d-045f-4ad1-a9b5-8561e718db9d",
   "metadata": {},
   "source": [
    "### Below are a few examples of evaluating arithmetic expressions in Python:\n"
   ]
  },
  {
   "cell_type": "code",
   "execution_count": null,
   "id": "55b6403a-0c25-4d32-96db-e0ca2e529a01",
   "metadata": {},
   "outputs": [],
   "source": []
  },
  {
   "cell_type": "code",
   "execution_count": 18,
   "id": "0efc36b3-ba64-4ef8-ab90-3ff582ece925",
   "metadata": {},
   "outputs": [
    {
     "data": {
      "text/plain": [
       "17"
      ]
     },
     "execution_count": 18,
     "metadata": {},
     "output_type": "execute_result"
    }
   ],
   "source": [
    "#  This a simple arithmetic expression to mutiply then add integers.\n",
    "(3*4)+5"
   ]
  },
  {
   "cell_type": "code",
   "execution_count": null,
   "id": "10d9f6e7-3dc0-44d9-a819-0395f1cf4982",
   "metadata": {},
   "outputs": [],
   "source": []
  },
  {
   "cell_type": "code",
   "execution_count": 17,
   "id": "de44002a-b137-4ffb-9200-58410217904c",
   "metadata": {},
   "outputs": [
    {
     "name": "stdout",
     "output_type": "stream",
     "text": [
      "3\n"
     ]
    }
   ],
   "source": [
    "# This will convert 200 minutes to hours by diving by 60.\n",
    "minutes = 200\n",
    "hours = minutes // 60\n",
    "\n",
    "# print the result.\n",
    "print(hours)"
   ]
  },
  {
   "cell_type": "code",
   "execution_count": null,
   "id": "aec03018-c484-4aee-8b26-0af32c2682bb",
   "metadata": {},
   "outputs": [],
   "source": []
  },
  {
   "cell_type": "markdown",
   "id": "ac12c5ba-4269-426b-86c3-e4b98beabd63",
   "metadata": {},
   "source": [
    "**Objectives:**\n",
    "1. Describe the different types of tools used in data science.\n",
    "2. List popular languages for Data Science.\n",
    "3. Identify the appropriate tools for different types of data.\n",
    "4. Collaborate with other data scientists using tools such as Git and GitHub.\n",
    "5. Use popular data science tools such as Jupyter Notebook, RStudio, and Visual Studio Code.\n",
    "low"
   ]
  },
  {
   "cell_type": "code",
   "execution_count": null,
   "id": "05ff1f28-9d8d-4323-88ae-21fe03ae2e02",
   "metadata": {},
   "outputs": [],
   "source": []
  },
  {
   "cell_type": "markdown",
   "id": "17115afa-6609-4d48-bab7-6de8712fcabb",
   "metadata": {},
   "source": [
    "## Author\n",
    "karan meena"
   ]
  },
  {
   "cell_type": "code",
   "execution_count": null,
   "id": "cdc785aa-c411-4cd3-b3fe-855d6b826415",
   "metadata": {},
   "outputs": [],
   "source": []
  }
 ],
 "metadata": {
  "kernelspec": {
   "display_name": "Python 3 (ipykernel)",
   "language": "python",
   "name": "python3"
  },
  "language_info": {
   "codemirror_mode": {
    "name": "ipython",
    "version": 3
   },
   "file_extension": ".py",
   "mimetype": "text/x-python",
   "name": "python",
   "nbconvert_exporter": "python",
   "pygments_lexer": "ipython3",
   "version": "3.11.4"
  }
 },
 "nbformat": 4,
 "nbformat_minor": 5
}
